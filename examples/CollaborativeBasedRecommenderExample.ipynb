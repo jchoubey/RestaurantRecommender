{
 "cells": [
  {
   "cell_type": "markdown",
   "id": "d1b53b9f",
   "metadata": {},
   "source": [
    "Example usage of RestaurantRecommender package."
   ]
  },
  {
   "cell_type": "markdown",
   "id": "4cbf1fbe",
   "metadata": {},
   "source": [
    "### STEP 1: Import the module"
   ]
  },
  {
   "cell_type": "code",
   "execution_count": 1,
   "id": "16cb882b",
   "metadata": {},
   "outputs": [],
   "source": [
    "from restaurantrecommender import RecommendationSystem\n",
    "import pandas as pd"
   ]
  },
  {
   "cell_type": "markdown",
   "id": "d7360217",
   "metadata": {},
   "source": [
    "### STEP 2: Instantiate the class and specify the file path and type of recommendation algorithm to use."
   ]
  },
  {
   "cell_type": "markdown",
   "id": "9b0846d8",
   "metadata": {},
   "source": [
    "The file path should contain three columns (business_id, user_id, business_name, stars) to use collaborative filtering alogorithm. \n",
    "The collaborative filering algoirthm finds recommendation based on other similar users. "
   ]
  },
  {
   "cell_type": "code",
   "execution_count": 2,
   "id": "d7d80ecb",
   "metadata": {
    "scrolled": true
   },
   "outputs": [
    {
     "name": "stderr",
     "output_type": "stream",
     "text": [
      "/Users/poornimamuthukumar/miniconda3/lib/python3.9/site-packages/implicit/utils.py:26: UserWarning: OpenBLAS detected. Its highly recommend to set the environment variable 'export OPENBLAS_NUM_THREADS=1' to disable its internal multithreading\n",
      "  warnings.warn(\n"
     ]
    },
    {
     "data": {
      "application/vnd.jupyter.widget-view+json": {
       "model_id": "3f6f1e9d50894a37a9d628a8427a3f4d",
       "version_major": 2,
       "version_minor": 0
      },
      "text/plain": [
       "HBox(children=(HTML(value=''), FloatProgress(value=0.0, max=50.0), HTML(value='')))"
      ]
     },
     "metadata": {},
     "output_type": "display_data"
    },
    {
     "name": "stdout",
     "output_type": "stream",
     "text": [
      "\n"
     ]
    }
   ],
   "source": [
    "r = RecommendationSystem(\"../data/clean/user_business_review.csv\", \"CollaborativeBasedRecommender\")"
   ]
  },
  {
   "cell_type": "markdown",
   "id": "cf1dfbf4",
   "metadata": {},
   "source": [
    "### STEP 3: Call make recommendation to get recommendations for a given user. "
   ]
  },
  {
   "cell_type": "markdown",
   "id": "e41ea4c0",
   "metadata": {},
   "source": [
    "Given a user id, makes recommendation "
   ]
  },
  {
   "cell_type": "code",
   "execution_count": 3,
   "id": "0876beaf",
   "metadata": {},
   "outputs": [
    {
     "name": "stdout",
     "output_type": "stream",
     "text": [
      "Recommendation For User 100\n",
      "                  0\n",
      "0    Terakawa Ramen\n",
      "1            Suraya\n",
      "2      Harp & Crown\n",
      "3       A La Mousse\n",
      "4    Sabrina's Café\n",
      "5         Cafe Lift\n",
      "6  Mission Taqueria\n",
      "7             Amada\n",
      "8        Bubblefish\n",
      "9         Nine Ting\n"
     ]
    }
   ],
   "source": [
    "user_id = 100\n",
    "restaurant = r.make_recommendation(user_id)\n",
    "print(\"Recommendation For User\", user_id)\n",
    "print(pd.DataFrame(restaurant))"
   ]
  },
  {
   "cell_type": "markdown",
   "id": "71252e86",
   "metadata": {},
   "source": [
    "### STEP 4: Given a restaurant id and number of similar restaurants to return this function returns similar restaurants to the one passed."
   ]
  },
  {
   "cell_type": "code",
   "execution_count": 5,
   "id": "d78a8330",
   "metadata": {},
   "outputs": [
    {
     "name": "stdout",
     "output_type": "stream",
     "text": [
      "                   0\n",
      "0            Bar One\n",
      "1   Whetstone Tavern\n",
      "2    The Bagel Place\n",
      "3  Pistola's Del Sur\n",
      "4      Kanella South\n",
      "5        Brigantessa\n",
      "6        Plenty Cafe\n",
      "7      A Lin Kitchen\n",
      "8     Chick's Philly\n",
      "9       P'unk Burger\n"
     ]
    }
   ],
   "source": [
    "top = 10\n",
    "restaurant_id = 3\n",
    "restaurant = r.similar_restaurants(restaurant_id, top)\n",
    "print(pd.DataFrame(restaurant))"
   ]
  },
  {
   "cell_type": "markdown",
   "id": "338caee6",
   "metadata": {},
   "source": [
    "### STEP 5: Saves the pickle model for future reference."
   ]
  },
  {
   "cell_type": "code",
   "execution_count": 6,
   "id": "a69c2cc2",
   "metadata": {},
   "outputs": [
    {
     "name": "stdout",
     "output_type": "stream",
     "text": [
      "Saving Recommendation Model to ./output/model.pickle\n"
     ]
    }
   ],
   "source": [
    "r.save_pickle_model(\"./output/model.pickle\")"
   ]
  }
 ],
 "metadata": {
  "kernelspec": {
   "display_name": "Python 3 (ipykernel)",
   "language": "python",
   "name": "python3"
  },
  "language_info": {
   "codemirror_mode": {
    "name": "ipython",
    "version": 3
   },
   "file_extension": ".py",
   "mimetype": "text/x-python",
   "name": "python",
   "nbconvert_exporter": "python",
   "pygments_lexer": "ipython3",
   "version": "3.9.1"
  }
 },
 "nbformat": 4,
 "nbformat_minor": 5
}
