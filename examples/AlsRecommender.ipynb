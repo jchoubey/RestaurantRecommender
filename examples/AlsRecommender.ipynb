{
 "cells": [
  {
   "cell_type": "code",
   "execution_count": 27,
   "id": "7f35fb29",
   "metadata": {},
   "outputs": [],
   "source": [
    "import pandas as pd\n",
    "import random\n",
    "import numpy as np\n",
    "import implicit\n",
    "import os\n",
    "from sklearn.model_selection import train_test_split\n",
    "from pandas.api.types import CategoricalDtype\n",
    "from scipy.sparse import csr_matrix, save_npz\n",
    "import tarfile"
   ]
  },
  {
   "cell_type": "code",
   "execution_count": 28,
   "id": "7618564c",
   "metadata": {},
   "outputs": [],
   "source": [
    "raw_data_directory = \"../data/raw\"\n",
    "filter_category = 'restaurant'\n",
    "filter_city = 'philadelphia'\n",
    "tar_filename = 'yelp_dataset.tar'"
   ]
  },
  {
   "cell_type": "code",
   "execution_count": 29,
   "id": "0aa7acf2",
   "metadata": {},
   "outputs": [],
   "source": [
    "file = tarfile.open(os.path.join(raw_data_directory,tar_filename))\n",
    "file.extractall(path=raw_data_directory)"
   ]
  },
  {
   "cell_type": "code",
   "execution_count": null,
   "id": "83dfbcc5",
   "metadata": {},
   "outputs": [
    {
     "name": "stderr",
     "output_type": "stream",
     "text": [
      "/Users/poornimamuthukumar/miniconda3/lib/python3.9/site-packages/pandas/core/frame.py:4308: SettingWithCopyWarning: \n",
      "A value is trying to be set on a copy of a slice from a DataFrame\n",
      "\n",
      "See the caveats in the documentation: https://pandas.pydata.org/pandas-docs/stable/user_guide/indexing.html#returning-a-view-versus-a-copy\n",
      "  return super().drop(\n"
     ]
    },
    {
     "name": "stdout",
     "output_type": "stream",
     "text": [
      "Number of Restaurant 50793\n"
     ]
    }
   ],
   "source": [
    "business = pd.read_json(os.path.join(raw_data_directory, 'yelp_academic_dataset_business.json'), lines=True)\n",
    "business = business[['business_id', 'name', 'city', 'categories']]\n",
    "business.rename({'name': 'business_name'}, axis=1, inplace=True)\n",
    "\n",
    "# drop na\n",
    "business.dropna(axis=0, how='any', inplace=True)\n",
    "str_cols = ['categories', 'city']\n",
    "\n",
    "# lowercase string\n",
    "business[str_cols] = business[str_cols].apply(func=lambda x: x.str.strip().str.lower(), axis=1)\n",
    "\n",
    "restaurant = business[(business['categories'].str.contains(filter_category))]\n",
    "restaurant.drop(axis=1, columns=['categories', 'city'], inplace=True)\n",
    "\n",
    "# restaurant.to_csv(os.path.join(clean_data_directory, 'restaurant.csv'), index=False)\n",
    "num_restaurant = restaurant.business_id.unique().shape[0]\n",
    "print(f\"Number of Restaurant {num_restaurant}\")\n",
    "\n",
    "review = pd.read_json(os.path.join(raw_data_directory, 'yelp_academic_dataset_review.json'), lines=True)\n",
    "review = review[['user_id', 'business_id', 'stars']]\n",
    "num_review = review.review_id.unique().shape[0]\n",
    "print(f\"Number of Review {num_review}\")\n",
    "\n",
    "# data = pd.merge(left=restaurant, right=review, how='inner', on='business_id')\n",
    "# data.to_csv(os.path.join(clean_data_directory, 'review.csv'), index=False)\n",
    "\n",
    "user = pd.read_json(os.path.join(raw_data_directory, 'yelp_academic_dataset_user.json'), lines=True)\n",
    "user = user[['user_id', 'name']]\n",
    "user.rename({'name': 'user_name'}, axis=1, inplace=True)\n",
    "\n",
    "user_review = pd.merge(left=user, right=review, how='inner', on='user_id')\n",
    "\n",
    "user_review_business = pd.merge(left=restaurant, right=user_review, how='inner', on='business_id')\n",
    "#user_review_business.to_csv(os.path.join(clean_data_directory, 'user_business_review.csv'), index=False)"
   ]
  },
  {
   "cell_type": "code",
   "execution_count": null,
   "id": "8f4bced6",
   "metadata": {},
   "outputs": [],
   "source": [
    "user_review_business.groupby(['city']).count().max(level=0)"
   ]
  },
  {
   "cell_type": "code",
   "execution_count": 2,
   "id": "f50fddbf",
   "metadata": {},
   "outputs": [],
   "source": [
    "restaurant_df = pd.read_csv(\"../data/clean/restaurant.csv\")"
   ]
  },
  {
   "cell_type": "code",
   "execution_count": 3,
   "id": "06336baf",
   "metadata": {},
   "outputs": [],
   "source": [
    "reviews_df = pd.read_csv(\"../data/clean/review.csv\")"
   ]
  },
  {
   "cell_type": "code",
   "execution_count": 4,
   "id": "8d48e844",
   "metadata": {},
   "outputs": [
    {
     "data": {
      "text/html": [
       "<div>\n",
       "<style scoped>\n",
       "    .dataframe tbody tr th:only-of-type {\n",
       "        vertical-align: middle;\n",
       "    }\n",
       "\n",
       "    .dataframe tbody tr th {\n",
       "        vertical-align: top;\n",
       "    }\n",
       "\n",
       "    .dataframe thead th {\n",
       "        text-align: right;\n",
       "    }\n",
       "</style>\n",
       "<table border=\"1\" class=\"dataframe\">\n",
       "  <thead>\n",
       "    <tr style=\"text-align: right;\">\n",
       "      <th></th>\n",
       "      <th>business_id</th>\n",
       "      <th>name</th>\n",
       "      <th>user_id</th>\n",
       "      <th>stars</th>\n",
       "    </tr>\n",
       "  </thead>\n",
       "  <tbody>\n",
       "    <tr>\n",
       "      <th>0</th>\n",
       "      <td>MTSW4McQd7CbVtyjqoe9mw</td>\n",
       "      <td>st honore pastries</td>\n",
       "      <td>6_SpY41LIHZuIaiDs5FMKA</td>\n",
       "      <td>4</td>\n",
       "    </tr>\n",
       "    <tr>\n",
       "      <th>1</th>\n",
       "      <td>MTSW4McQd7CbVtyjqoe9mw</td>\n",
       "      <td>st honore pastries</td>\n",
       "      <td>tCXElwhzekJEH6QJe3xs7Q</td>\n",
       "      <td>4</td>\n",
       "    </tr>\n",
       "    <tr>\n",
       "      <th>2</th>\n",
       "      <td>MTSW4McQd7CbVtyjqoe9mw</td>\n",
       "      <td>st honore pastries</td>\n",
       "      <td>WqfKtI-aGMmvbA9pPUxNQQ</td>\n",
       "      <td>5</td>\n",
       "    </tr>\n",
       "    <tr>\n",
       "      <th>3</th>\n",
       "      <td>MTSW4McQd7CbVtyjqoe9mw</td>\n",
       "      <td>st honore pastries</td>\n",
       "      <td>3-1va0IQfK-9tUMzfHWfTA</td>\n",
       "      <td>5</td>\n",
       "    </tr>\n",
       "    <tr>\n",
       "      <th>4</th>\n",
       "      <td>MTSW4McQd7CbVtyjqoe9mw</td>\n",
       "      <td>st honore pastries</td>\n",
       "      <td>EouCKoDfzaVG0klEgdDvCQ</td>\n",
       "      <td>4</td>\n",
       "    </tr>\n",
       "  </tbody>\n",
       "</table>\n",
       "</div>"
      ],
      "text/plain": [
       "              business_id                name                 user_id  stars\n",
       "0  MTSW4McQd7CbVtyjqoe9mw  st honore pastries  6_SpY41LIHZuIaiDs5FMKA      4\n",
       "1  MTSW4McQd7CbVtyjqoe9mw  st honore pastries  tCXElwhzekJEH6QJe3xs7Q      4\n",
       "2  MTSW4McQd7CbVtyjqoe9mw  st honore pastries  WqfKtI-aGMmvbA9pPUxNQQ      5\n",
       "3  MTSW4McQd7CbVtyjqoe9mw  st honore pastries  3-1va0IQfK-9tUMzfHWfTA      5\n",
       "4  MTSW4McQd7CbVtyjqoe9mw  st honore pastries  EouCKoDfzaVG0klEgdDvCQ      4"
      ]
     },
     "execution_count": 4,
     "metadata": {},
     "output_type": "execute_result"
    }
   ],
   "source": [
    "reviews_df.shape\n",
    "reviews_df.head()"
   ]
  },
  {
   "cell_type": "code",
   "execution_count": 5,
   "id": "96d4c8bc",
   "metadata": {},
   "outputs": [],
   "source": [
    "unique_users = list(reviews_df['user_id'].unique())\n",
    "unique_restaurant = list(reviews_df['business_id'].unique())\n",
    "rating = reviews_df['stars'].tolist()\n",
    "\n",
    "# converting users and restaurants into numerical ids\n",
    "rows = reviews_df.user_id.astype(CategoricalDtype(categories=unique_users)).cat.codes\n",
    "cols = reviews_df.business_id.astype(CategoricalDtype(categories=unique_restaurant)).cat.codes\n",
    "\n",
    "reviews_df['users_id_code'] = rows\n",
    "reviews_df['business_id_code'] = cols\n",
    "sparse_restaurant_user = csr_matrix((rating, (cols, rows)), shape=(len(unique_restaurant), len(unique_users)))\n",
    "sparse_user_restaurant = csr_matrix((rating, (rows, cols)), shape=(len(unique_users), len(unique_restaurant)))"
   ]
  },
  {
   "cell_type": "code",
   "execution_count": 6,
   "id": "de55a823",
   "metadata": {},
   "outputs": [],
   "source": [
    "ratings = sparse_user_restaurant\n",
    "test_set = ratings.copy()\n",
    "test_set[test_set != 0] = 1\n",
    "training_set = ratings.copy()\n",
    "user_restaurant_interaction = training_set.nonzero()\n",
    "interaction_index_pair = list(zip(user_restaurant_interaction[0], user_restaurant_interaction[1]))\n",
    "random.seed(0)\n",
    "test_set_size = int(np.ceil(0.2 * len(interaction_index_pair)))\n",
    "test_samples = random.sample(interaction_index_pair, test_set_size)\n",
    "user_index = [index[0] for index in test_samples]\n",
    "restaurant_index = [index[1] for index in test_samples]\n",
    "training_set[user_index, restaurant_index] = 0\n",
    "training_set.eliminate_zeros()"
   ]
  },
  {
   "cell_type": "code",
   "execution_count": 7,
   "id": "850550c3",
   "metadata": {},
   "outputs": [
    {
     "name": "stderr",
     "output_type": "stream",
     "text": [
      "/Users/poornimamuthukumar/miniconda3/lib/python3.9/site-packages/implicit/utils.py:26: UserWarning: OpenBLAS detected. Its highly recommend to set the environment variable 'export OPENBLAS_NUM_THREADS=1' to disable its internal multithreading\n",
      "  warnings.warn(\n"
     ]
    },
    {
     "data": {
      "application/vnd.jupyter.widget-view+json": {
       "model_id": "e6aed7ed2f8344608694f32c21cf1517",
       "version_major": 2,
       "version_minor": 0
      },
      "text/plain": [
       "HBox(children=(HTML(value=''), FloatProgress(value=0.0, max=50.0), HTML(value='')))"
      ]
     },
     "metadata": {},
     "output_type": "display_data"
    },
    {
     "name": "stdout",
     "output_type": "stream",
     "text": [
      "\n"
     ]
    }
   ],
   "source": [
    "als_model = implicit.als.AlternatingLeastSquares(factors=20, regularization=0.1, iterations=50)\n",
    "als_model.fit(training_set)"
   ]
  },
  {
   "cell_type": "code",
   "execution_count": 15,
   "id": "0ab9b6b2",
   "metadata": {},
   "outputs": [
    {
     "name": "stdout",
     "output_type": "stream",
     "text": [
      "Rated By User 5858\n"
     ]
    },
    {
     "data": {
      "text/html": [
       "<div>\n",
       "<style scoped>\n",
       "    .dataframe tbody tr th:only-of-type {\n",
       "        vertical-align: middle;\n",
       "    }\n",
       "\n",
       "    .dataframe tbody tr th {\n",
       "        vertical-align: top;\n",
       "    }\n",
       "\n",
       "    .dataframe thead th {\n",
       "        text-align: right;\n",
       "    }\n",
       "</style>\n",
       "<table border=\"1\" class=\"dataframe\">\n",
       "  <thead>\n",
       "    <tr style=\"text-align: right;\">\n",
       "      <th></th>\n",
       "      <th>0</th>\n",
       "    </tr>\n",
       "  </thead>\n",
       "  <tbody>\n",
       "    <tr>\n",
       "      <th>0</th>\n",
       "      <td>mood cafe</td>\n",
       "    </tr>\n",
       "  </tbody>\n",
       "</table>\n",
       "</div>"
      ],
      "text/plain": [
       "           0\n",
       "0  mood cafe"
      ]
     },
     "execution_count": 15,
     "metadata": {},
     "output_type": "execute_result"
    }
   ],
   "source": [
    "user_id = 5858\n",
    "restaurant = []\n",
    "restaurant.append(reviews_df.name.loc[reviews_df.users_id_code == user_id].iloc[0])\n",
    "print(\"Rated By User\", user_id)\n",
    "pd.DataFrame(restaurant)"
   ]
  },
  {
   "cell_type": "code",
   "execution_count": 9,
   "id": "6e5c0693",
   "metadata": {},
   "outputs": [
    {
     "name": "stdout",
     "output_type": "stream",
     "text": [
      "Recommendation For User\n"
     ]
    },
    {
     "data": {
      "text/html": [
       "<div>\n",
       "<style scoped>\n",
       "    .dataframe tbody tr th:only-of-type {\n",
       "        vertical-align: middle;\n",
       "    }\n",
       "\n",
       "    .dataframe tbody tr th {\n",
       "        vertical-align: top;\n",
       "    }\n",
       "\n",
       "    .dataframe thead th {\n",
       "        text-align: right;\n",
       "    }\n",
       "</style>\n",
       "<table border=\"1\" class=\"dataframe\">\n",
       "  <thead>\n",
       "    <tr style=\"text-align: right;\">\n",
       "      <th></th>\n",
       "      <th>0</th>\n",
       "    </tr>\n",
       "  </thead>\n",
       "  <tbody>\n",
       "    <tr>\n",
       "      <th>0</th>\n",
       "      <td>amada</td>\n",
       "    </tr>\n",
       "    <tr>\n",
       "      <th>1</th>\n",
       "      <td>talula's garden</td>\n",
       "    </tr>\n",
       "    <tr>\n",
       "      <th>2</th>\n",
       "      <td>vedge</td>\n",
       "    </tr>\n",
       "    <tr>\n",
       "      <th>3</th>\n",
       "      <td>sabrina's café</td>\n",
       "    </tr>\n",
       "    <tr>\n",
       "      <th>4</th>\n",
       "      <td>alma de cuba</td>\n",
       "    </tr>\n",
       "    <tr>\n",
       "      <th>5</th>\n",
       "      <td>bistrot la minette</td>\n",
       "    </tr>\n",
       "    <tr>\n",
       "      <th>6</th>\n",
       "      <td>farmicia</td>\n",
       "    </tr>\n",
       "    <tr>\n",
       "      <th>7</th>\n",
       "      <td>tria cafe wash west</td>\n",
       "    </tr>\n",
       "    <tr>\n",
       "      <th>8</th>\n",
       "      <td>indeblue modern indian food &amp; spirits</td>\n",
       "    </tr>\n",
       "    <tr>\n",
       "      <th>9</th>\n",
       "      <td>moshulu</td>\n",
       "    </tr>\n",
       "  </tbody>\n",
       "</table>\n",
       "</div>"
      ],
      "text/plain": [
       "                                       0\n",
       "0                                  amada\n",
       "1                        talula's garden\n",
       "2                                  vedge\n",
       "3                         sabrina's café\n",
       "4                           alma de cuba\n",
       "5                     bistrot la minette\n",
       "6                               farmicia\n",
       "7                    tria cafe wash west\n",
       "8  indeblue modern indian food & spirits\n",
       "9                                moshulu"
      ]
     },
     "execution_count": 9,
     "metadata": {},
     "output_type": "execute_result"
    }
   ],
   "source": [
    "user_id = 5858\n",
    "ids, scores = als_model.recommend(user_id, sparse_user_restaurant[user_id])\n",
    "restaurant = []\n",
    "for id in ids:\n",
    "    restaurant.append(reviews_df.name.loc[reviews_df.business_id_code == id].iloc[0])\n",
    "print(\"Recommendation For User\", )\n",
    "pd.DataFrame(restaurant)"
   ]
  },
  {
   "cell_type": "code",
   "execution_count": null,
   "id": "76a775ca",
   "metadata": {},
   "outputs": [],
   "source": [
    "train_data.shape"
   ]
  },
  {
   "cell_type": "code",
   "execution_count": 10,
   "id": "cd9f77de",
   "metadata": {},
   "outputs": [
    {
     "name": "stdout",
     "output_type": "stream",
     "text": [
      "Restaurants Similar to chestnut hill brewing company\n"
     ]
    },
    {
     "data": {
      "text/html": [
       "<div>\n",
       "<style scoped>\n",
       "    .dataframe tbody tr th:only-of-type {\n",
       "        vertical-align: middle;\n",
       "    }\n",
       "\n",
       "    .dataframe tbody tr th {\n",
       "        vertical-align: top;\n",
       "    }\n",
       "\n",
       "    .dataframe thead th {\n",
       "        text-align: right;\n",
       "    }\n",
       "</style>\n",
       "<table border=\"1\" class=\"dataframe\">\n",
       "  <thead>\n",
       "    <tr style=\"text-align: right;\">\n",
       "      <th></th>\n",
       "      <th>0</th>\n",
       "    </tr>\n",
       "  </thead>\n",
       "  <tbody>\n",
       "    <tr>\n",
       "      <th>0</th>\n",
       "      <td>baltic bakery</td>\n",
       "    </tr>\n",
       "    <tr>\n",
       "      <th>1</th>\n",
       "      <td>wawa</td>\n",
       "    </tr>\n",
       "    <tr>\n",
       "      <th>2</th>\n",
       "      <td>mercer cafe</td>\n",
       "    </tr>\n",
       "    <tr>\n",
       "      <th>3</th>\n",
       "      <td>express breakfast &amp; lunch</td>\n",
       "    </tr>\n",
       "    <tr>\n",
       "      <th>4</th>\n",
       "      <td>eddie's pizza</td>\n",
       "    </tr>\n",
       "    <tr>\n",
       "      <th>5</th>\n",
       "      <td>papps pizza</td>\n",
       "    </tr>\n",
       "    <tr>\n",
       "      <th>6</th>\n",
       "      <td>little man's juice bar and grill</td>\n",
       "    </tr>\n",
       "    <tr>\n",
       "      <th>7</th>\n",
       "      <td>panda express</td>\n",
       "    </tr>\n",
       "    <tr>\n",
       "      <th>8</th>\n",
       "      <td>cosmic café and ciderhouse</td>\n",
       "    </tr>\n",
       "    <tr>\n",
       "      <th>9</th>\n",
       "      <td>chestnut hill brewing company</td>\n",
       "    </tr>\n",
       "  </tbody>\n",
       "</table>\n",
       "</div>"
      ],
      "text/plain": [
       "                                  0\n",
       "0                     baltic bakery\n",
       "1                              wawa\n",
       "2                       mercer cafe\n",
       "3         express breakfast & lunch\n",
       "4                     eddie's pizza\n",
       "5                       papps pizza\n",
       "6  little man's juice bar and grill\n",
       "7                     panda express\n",
       "8        cosmic café and ciderhouse\n",
       "9     chestnut hill brewing company"
      ]
     },
     "execution_count": 10,
     "metadata": {},
     "output_type": "execute_result"
    }
   ],
   "source": [
    "business_id = 12\n",
    "ids, scores = als_model.similar_items(business_id)\n",
    "restaurant = []\n",
    "for id in ids:\n",
    "    restaurant.append(reviews_df.name.loc[reviews_df.business_id_code == id].iloc[0])\n",
    "print(\"Restaurants Similar to\", reviews_df.name.loc[reviews_df.business_id_code == id].iloc[0])\n",
    "pd.DataFrame(restaurant)"
   ]
  }
 ],
 "metadata": {
  "kernelspec": {
   "display_name": "Python 3 (ipykernel)",
   "language": "python",
   "name": "python3"
  },
  "language_info": {
   "codemirror_mode": {
    "name": "ipython",
    "version": 3
   },
   "file_extension": ".py",
   "mimetype": "text/x-python",
   "name": "python",
   "nbconvert_exporter": "python",
   "pygments_lexer": "ipython3",
   "version": "3.9.1"
  }
 },
 "nbformat": 4,
 "nbformat_minor": 5
}
